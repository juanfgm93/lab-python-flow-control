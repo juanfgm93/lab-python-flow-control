{
 "cells": [
  {
   "cell_type": "markdown",
   "id": "d3bfc191-8885-42ee-b0a0-bbab867c6f9f",
   "metadata": {
    "tags": []
   },
   "source": [
    "# Lab | Flow Control"
   ]
  },
  {
   "cell_type": "markdown",
   "id": "3851fcd1-cf98-4653-9c89-e003b7ec9400",
   "metadata": {},
   "source": [
    "## Exercise: Managing Customer Orders Optimized\n",
    "\n",
    "In the last lab, you were starting an online store that sells various products. To ensure smooth operations, you developed a program that manages customer orders and inventory.\n",
    "\n",
    "You did so without using flow control. Let's go a step further and improve this code.\n",
    "\n",
    "Follow the steps below to complete the exercise:\n",
    "\n",
    "1. Look at your code from the lab data structures, and improve repeated code with loops.\n",
    "\n",
    "2. Instead of asking the user to input the name of three products that a customer wants to order, do the following:\n",
    "    \n",
    "    a. Prompt the user to enter the name of a product that a customer wants to order.\n",
    "    \n",
    "    b. Add the product name to the \"customer_orders\" set.\n",
    "    \n",
    "    c. Ask the user if they want to add another product (yes/no).\n",
    "    \n",
    "    d. Continue the loop until the user does not want to add another product.\n",
    "\n",
    "3. Instead of updating the inventory by subtracting 1 from the quantity of each product, only do it for  the products that were ordered (those in \"customer_orders\")."
   ]
  },
  {
   "cell_type": "code",
   "execution_count": 12,
   "id": "4409093b",
   "metadata": {},
   "outputs": [
    {
     "name": "stdout",
     "output_type": "stream",
     "text": [
      "{'mug', 'book', 'hat'}\n",
      "updated inventory by substracting\n",
      "t-shirt : 5\n",
      "mug : 5\n",
      "hat : 5\n",
      "book : 5\n",
      "keychain : 5\n"
     ]
    }
   ],
   "source": [
    "# 1. Look at your code from the lab data structures, and improve repeated code with loops.\n",
    "# it is already with loops\n",
    "\n",
    "products = ['t-shirt', 'mug', 'hat', 'book', 'keychain']\n",
    "inventory = {}\n",
    "for product in products:\n",
    "    inventory[product] = int(input(f'Please enter the quantity of {product}: '))\n",
    "\n",
    "customer_orders = set()\n",
    "\n",
    "for i in range(3):\n",
    "    pre_customer_orders = input(f'Enter 3 products out of {products}: ')\n",
    "    customer_orders.add(pre_customer_orders)\n",
    "print(customer_orders)\n",
    "\n",
    "print ('updated inventory by substracting')\n",
    "\n",
    "for key, value in inventory.items():\n",
    "    inventory[key] = value -1\n",
    "    print(key, ':', value)"
   ]
  },
  {
   "cell_type": "code",
   "execution_count": 16,
   "id": "e84c6420",
   "metadata": {},
   "outputs": [
    {
     "name": "stdout",
     "output_type": "stream",
     "text": [
      "{'t-shirt', 'mug', 'hat'}\n"
     ]
    }
   ],
   "source": [
    "# 2. Instead of asking the user to input the name of three products that a customer wants to order, do the following:\n",
    "    \n",
    "    #a. Prompt the user to enter the name of a product that a customer wants to order.\n",
    "    \n",
    "    #b. Add the product name to the \"customer_orders\" set.\n",
    "    \n",
    "    #c. Ask the user if they want to add another product (yes/no).\n",
    "    \n",
    "    #d. Continue the loop until the user does not want to add another product.\n",
    "\n",
    "customer_orders = set()\n",
    "\n",
    "while True:\n",
    "    yes_no_input = input('Do you want to order something? Answer yes/no')\n",
    "\n",
    "    if yes_no_input.lower() == 'yes':\n",
    "        product_wanted = input('Enter the product ordered by the customer:')\n",
    "        customer_orders.add(product_wanted)\n",
    "    elif yes_no_input.lower() == 'no':\n",
    "        break\n",
    "    else:\n",
    "        print('Enter a valid input')\n",
    "print(customer_orders)"
   ]
  },
  {
   "cell_type": "code",
   "execution_count": 37,
   "id": "06d590d4",
   "metadata": {},
   "outputs": [
    {
     "name": "stdout",
     "output_type": "stream",
     "text": [
      "updated inventory by substracting\n"
     ]
    },
    {
     "data": {
      "text/plain": [
       "{'t-shirt': 1, 'mug': 1, 'hat': 1, 'book': 4, 'keychain': 4}"
      ]
     },
     "execution_count": 37,
     "metadata": {},
     "output_type": "execute_result"
    }
   ],
   "source": [
    "#3. Instead of updating the inventory by subtracting 1 from the quantity of each product, only do it for  the products that were ordered \n",
    "#(those in \"customer_orders\").\n",
    "\n",
    "print ('updated inventory by substracting')\n",
    "\n",
    "for element in customer_orders:\n",
    "    for key, value in inventory.items():\n",
    "        if key == element:\n",
    "            inventory[key]= value - 1\n",
    "        \n",
    "        #print(key, ':', value)\n",
    "inventory"
   ]
  }
 ],
 "metadata": {
  "kernelspec": {
   "display_name": "Python 3 (ipykernel)",
   "language": "python",
   "name": "python3"
  },
  "language_info": {
   "codemirror_mode": {
    "name": "ipython",
    "version": 3
   },
   "file_extension": ".py",
   "mimetype": "text/x-python",
   "name": "python",
   "nbconvert_exporter": "python",
   "pygments_lexer": "ipython3",
   "version": "3.11.5"
  }
 },
 "nbformat": 4,
 "nbformat_minor": 5
}
